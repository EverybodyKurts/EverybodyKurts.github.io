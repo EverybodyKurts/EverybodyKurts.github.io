{
 "cells": [
  {
   "cell_type": "markdown",
   "metadata": {},
   "source": [
    "# Downloading Files using HTTP Byte Range Requests with F#"
   ]
  },
  {
   "cell_type": "markdown",
   "metadata": {},
   "source": [
    "## Calculating Byte Ranges using `Seq.unfold`"
   ]
  },
  {
   "cell_type": "markdown",
   "metadata": {},
   "source": [
    "[`Seq.unfold`](https://fsharp.github.io/fsharp-core-docs/reference/fsharp-collections-seqmodule.html#unfold) is used to generate a series from an initial value, stopping when a certain condition is met.\n",
    "\n",
    "In our case:\n",
    "1. the initial value is the desired byte range size\n",
    "2. the stopping condition is when the next byte range start would be greater than the total file byte size"
   ]
  },
  {
   "cell_type": "code",
   "execution_count": null,
   "metadata": {
    "dotnet_interactive": {
     "language": "fsharp"
    }
   },
   "outputs": [
    {
     "data": {
      "text/html": [
       "<table><thead><tr><th><i>index</i></th><th>Item1</th><th>Item2</th></tr></thead><tbody><tr><td>0</td><td><div class=\"dni-plaintext\">0</div></td><td><div class=\"dni-plaintext\">9999999</div></td></tr><tr><td>1</td><td><div class=\"dni-plaintext\">10000000</div></td><td><div class=\"dni-plaintext\">14999999</div></td></tr></tbody></table>"
      ]
     },
     "metadata": {},
     "output_type": "display_data"
    }
   ],
   "source": [
    "let byteRanges (byteSize: uint64) (totalBytes: uint64) : (uint64 * uint64) seq =\n",
    "    (0UL, byteSize)\n",
    "    |> Seq.unfold (fun (start, finish) ->\n",
    "        if start >= totalBytes then\n",
    "            None\n",
    "        else if start + byteSize > totalBytes then\n",
    "            Some ((start, totalBytes-1UL),\n",
    "                  (finish, finish + byteSize))\n",
    "        else\n",
    "            Some ((start, finish-1UL),\n",
    "                  (finish, finish + byteSize))\n",
    "    )\n",
    "\n",
    "let tenMegabyteRanges = byteRanges 10_000_000UL\n",
    "\n",
    "tenMegabyteRanges 15_000_000UL"
   ]
  },
  {
   "cell_type": "markdown",
   "metadata": {},
   "source": [
    "The above example shows the byte size ranges calculated for downloading a 15 mb file in 10 mb chunks.\n",
    "\n",
    "Let's step through each function call:\n",
    "\n",
    "| # | `(start, finish)` | `start >= totalBytes` ? | `start + byteSize > totalBytes` ? | Outcome |\n",
    "| - | ----------------- | ---------------------   | --------------------------------- | ------- |\n",
    "| 0 | `(0UL, 10_000_000UL)` | `0UL >= 15_000_000UL = false` | `0UL + 10_000_000 > 15_000_000 = false` | `Some ((0UL, 9_999_999UL), (10_000_000UL, 20_000_000UL))` |"
   ]
  },
  {
   "cell_type": "markdown",
   "metadata": {},
   "source": []
  },
  {
   "cell_type": "markdown",
   "metadata": {},
   "source": []
  }
 ],
 "metadata": {
  "kernelspec": {
   "display_name": ".NET (F#)",
   "language": "F#",
   "name": ".net-fsharp"
  },
  "language_info": {
   "name": "F#"
  }
 },
 "nbformat": 4,
 "nbformat_minor": 2
}

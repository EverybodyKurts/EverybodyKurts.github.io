{
 "cells": [
  {
   "cell_type": "markdown",
   "metadata": {},
   "source": [
    "# Downloading Files using HTTP Byte Range Requests with F#"
   ]
  },
  {
   "cell_type": "markdown",
   "metadata": {},
   "source": [
    "## Calculating Byte Ranges using `List.unfold`"
   ]
  },
  {
   "cell_type": "markdown",
   "metadata": {},
   "source": [
    "[`List.unfold`](https://fsharp.github.io/fsharp-core-docs/reference/fsharp-collections-listmodule.html#unfold) is used to generate a series from an initial value, stopping when a certain condition is met.\n",
    "\n",
    "In our case:\n",
    "1. the initial value is the desired byte range size\n",
    "2. the stopping condition is when the next byte range start would be greater than the total file byte size, `totalBytes`."
   ]
  },
  {
   "cell_type": "code",
   "execution_count": null,
   "metadata": {
    "dotnet_interactive": {
     "language": "fsharp"
    }
   },
   "outputs": [
    {
     "data": {
      "text/html": [
       "<table><thead><tr><th><i>index</i></th><th>Item1</th><th>Item2</th></tr></thead><tbody><tr><td>0</td><td><div class=\"dni-plaintext\">0</div></td><td><div class=\"dni-plaintext\">9999999</div></td></tr><tr><td>1</td><td><div class=\"dni-plaintext\">10000000</div></td><td><div class=\"dni-plaintext\">14999999</div></td></tr></tbody></table>"
      ]
     },
     "metadata": {},
     "output_type": "display_data"
    }
   ],
   "source": [
    "let byteRanges (byteSize: uint64) (totalBytes: uint64) : (uint64 * uint64) list =\n",
    "    (0UL, byteSize)\n",
    "    |> List.unfold (fun (start, finish) ->\n",
    "        // Outcome 1: stopping condition\n",
    "        if start >= totalBytes then\n",
    "            None\n",
    "        // Outcome 2: the last byte range. stop at the total # of bytes\n",
    "        else if start + byteSize > totalBytes then\n",
    "            Some ((start, totalBytes-1UL),\n",
    "                  (finish, finish + byteSize))\n",
    "        // Outcome 3: a normal byte range\n",
    "        else\n",
    "            Some ((start, finish-1UL),\n",
    "                  (finish, finish + byteSize))\n",
    "    )\n",
    "\n",
    "let tenMegabyteRanges = byteRanges 10_000_000UL\n",
    "\n",
    "tenMegabyteRanges 15_000_000UL"
   ]
  },
  {
   "cell_type": "markdown",
   "metadata": {},
   "source": [
    "The function above accepts `byteSize` as the # of bytes to download per request and `totalBytes` is the total byte size of the file.\n",
    "\n",
    "The above example shows the byte size ranges calculated for downloading a 15 mb file in 10 mb chunks.\n",
    "\n",
    "Let's step through each iteration of `List.unfold` to see if a conditional holds true/false and the outcome of the iteration:\n",
    "\n",
    "| # | `(start, finish)` | `start >= totalBytes` ? | `start + byteSize > totalBytes` ? | Outcome # |\n",
    "| - | ----------------- | ---------------------   | --------------------------------- | --------- |\n",
    "| 0 | `(0, 10_000_000)` | `0 >= 15_000_000 = false` | `0 + 10_000_000 > 15_000_000 = false` | 3 - `Some ((0, 9_999_999), (10_000_000, 20_000_000))` |\n",
    "| 1 | `(10_000_000,  20_000_000)` | `10_000_000 >= 15_000_000 = false` | `10_000_000 + 10_000_000 > 15_000_000 = true` | 2 - `Some ((10_000_000, 14_999_999), (15_000_000, 25_000_000))` |\n",
    "| 2 | `(15_000_000,  25_000_000)` | `15_000_000 >= 15_000_000 = true` | n/a | 1 - `None` |"
   ]
  },
  {
   "cell_type": "markdown",
   "metadata": {},
   "source": [
    "A few things to notice:\n",
    "1. When the iteration returns a `Some` value, it returns a tuple with two elements:\n",
    "    * the first element is the next element added to the series: `(0, 9_999_999)` and `(10_000_000, 14_999_999)`\n",
    "    * the second element is the next value of the `List.unfold` iteration\n",
    "2. `List.unfold` stops when `None` is returned."
   ]
  },
  {
   "cell_type": "markdown",
   "metadata": {
    "dotnet_interactive": {
     "language": "fsharp"
    }
   },
   "source": [
    "## Calculating byte ranges using a recursive function"
   ]
  },
  {
   "cell_type": "markdown",
   "metadata": {},
   "source": [
    "What if `List.unfold` was replaced with a recursive function? Here's how I would write that function:"
   ]
  },
  {
   "cell_type": "code",
   "execution_count": null,
   "metadata": {
    "dotnet_interactive": {
     "language": "fsharp"
    }
   },
   "outputs": [
    {
     "data": {
      "text/html": [
       "<table><thead><tr><th><i>index</i></th><th>Item1</th><th>Item2</th></tr></thead><tbody><tr><td>0</td><td><div class=\"dni-plaintext\">0</div></td><td><div class=\"dni-plaintext\">9999999</div></td></tr><tr><td>1</td><td><div class=\"dni-plaintext\">10000000</div></td><td><div class=\"dni-plaintext\">19999999</div></td></tr><tr><td>2</td><td><div class=\"dni-plaintext\">20000000</div></td><td><div class=\"dni-plaintext\">24999999</div></td></tr></tbody></table>"
      ]
     },
     "metadata": {},
     "output_type": "display_data"
    }
   ],
   "source": [
    "let recursiveByteRanges (byteSize: uint64) (totalBytes: uint64) : (uint64 * uint64) seq =\n",
    "    let rec rbr (start, finish) =\n",
    "        // Outcome 1: the last byte range. stop at the total # of bytes\n",
    "        if start + byteSize >= totalBytes then\n",
    "            [(start, totalBytes-1UL)]\n",
    "        // Outcome 2: a normal byte range\n",
    "        else\n",
    "            [(start, finish-1UL)] @ (rbr (finish, finish + byteSize))\n",
    "\n",
    "    rbr (0UL, byteSize)\n",
    "\n",
    "let tenMegabyteRanges2 = recursiveByteRanges 10_000_000UL\n",
    "\n",
    "tenMegabyteRanges2 25_000_000UL"
   ]
  },
  {
   "cell_type": "markdown",
   "metadata": {},
   "source": [
    "This is similar to `List.unfold` but has one less conditoinal. However, IMHO, using `List.unfold` clarifies the code author's intent to any reader / reviewer. The reader can assume:\n",
    "\n",
    "1. A list will be generated from a single value\n",
    "2. The stopping condition will return `None` and any continuing condition will return `Some`."
   ]
  }
 ],
 "metadata": {
  "kernelspec": {
   "display_name": ".NET (F#)",
   "language": "F#",
   "name": ".net-fsharp"
  },
  "language_info": {
   "name": "F#"
  }
 },
 "nbformat": 4,
 "nbformat_minor": 2
}
